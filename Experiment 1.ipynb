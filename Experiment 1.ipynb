{
 "cells": [
  {
   "cell_type": "markdown",
   "id": "3f0c6437-8121-41aa-a163-086e04294973",
   "metadata": {},
   "source": [
    "# Experiment 1: Introduction to Python Programming"
   ]
  },
  {
   "cell_type": "markdown",
   "id": "e61892e3-b3bb-4aa5-884b-dfe21dfdabdf",
   "metadata": {
    "jp-MarkdownHeadingCollapsed": true
   },
   "source": [
    "#### Name: Christian Kyle S. Antonio\n",
    "#### Section: 2-ECE-C"
   ]
  },
  {
   "cell_type": "markdown",
   "id": "b200d8ab-e2e9-481b-a24d-04a01d746f3a",
   "metadata": {},
   "source": [
    "## Alphabet Soup Problem"
   ]
  },
  {
   "cell_type": "code",
   "execution_count": 281,
   "id": "19809699-f4cf-431f-b84c-157cbdec562d",
   "metadata": {
    "scrolled": true
   },
   "outputs": [
    {
     "data": {
      "text/plain": [
       "['e', 'h', 'l', 'l', 'o']"
      ]
     },
     "execution_count": 281,
     "metadata": {},
     "output_type": "execute_result"
    }
   ],
   "source": [
    "def alphabet_soup(text):\n",
    "    list = []\n",
    "    \n",
    "    for x in text:\n",
    "        list.append(x)\n",
    "    list.sort()\n",
    "    \n",
    "    return list\n",
    "    \n",
    "alphabet_soup(\"hello\")\n",
    "    "
   ]
  },
  {
   "cell_type": "markdown",
   "id": "f21b6d12-7fb3-4594-a4bf-63a809df5951",
   "metadata": {},
   "source": [
    "## Emoticon Problem"
   ]
  },
  {
   "cell_type": "markdown",
   "id": "89093fee-6c8b-4245-a788-13bb8668e0e5",
   "metadata": {},
   "source": [
    "#### Optimized Code:"
   ]
  },
  {
   "cell_type": "code",
   "execution_count": 283,
   "id": "f8d850f2-c758-425f-9190-70a51992de35",
   "metadata": {},
   "outputs": [
    {
     "name": "stdout",
     "output_type": "stream",
     "text": [
      "Make me :)\n",
      "I am >:(\n"
     ]
    }
   ],
   "source": [
    "def emotify(text):\n",
    "    library = {\"smile\":\":)\", \"grin\":\":D\", \"sad\":\":((\", \"mad\":\">:(\"}\n",
    "    \n",
    "    for y in library:\n",
    "        if text.find(y) > -1:\n",
    "            text = text.replace(y,library.get(y))\n",
    "            \n",
    "    print(text)\n",
    "        \n",
    "emotify(\"Make me smile\")\n",
    "emotify(\"I am mad\")"
   ]
  },
  {
   "cell_type": "markdown",
   "id": "678ce367-21c6-4061-a3ad-004cc5af7bee",
   "metadata": {},
   "source": [
    "#### Without using .find"
   ]
  },
  {
   "cell_type": "code",
   "execution_count": 230,
   "id": "64ff7a48-e7fe-4ede-87f5-9f10e786d12f",
   "metadata": {},
   "outputs": [
    {
     "name": "stdout",
     "output_type": "stream",
     "text": [
      "Make me :)\n",
      "I am >:(\n"
     ]
    }
   ],
   "source": [
    "def emotify(text):\n",
    "    library = {\"smile\":\":)\", \"grin\":\":D\", \"sad\":\":((\", \"mad\":\">:(\"}\n",
    "    words_list = []\n",
    "\n",
    "    index = 0\n",
    "    prev_index = 0\n",
    "    for x in text:\n",
    "        if x == \" \":\n",
    "            words_list.append(text[prev_index:index])\n",
    "            prev_index = index + 1\n",
    "        index += 1\n",
    "    words_list.append(text[prev_index:index])\n",
    "    \n",
    "    for y in library:\n",
    "        for x in words_list:\n",
    "            if x == y:\n",
    "                text = text.replace(y,library.get(y))\n",
    "            \n",
    "    print(text)\n",
    "        \n",
    "emotify(\"Make me smile\")\n",
    "emotify(\"I am mad\")"
   ]
  },
  {
   "cell_type": "markdown",
   "id": "6845f5af-fee7-4417-815f-c6eb7cd283b7",
   "metadata": {},
   "source": [
    "## Unpacking List Problem"
   ]
  },
  {
   "cell_type": "code",
   "execution_count": 289,
   "id": "073af42f-e496-488b-9b92-171355e6a7b3",
   "metadata": {},
   "outputs": [
    {
     "data": {
      "text/plain": [
       "'first: 1, middle: [2, 3, 4, 5], last: 6'"
      ]
     },
     "execution_count": 289,
     "metadata": {},
     "output_type": "execute_result"
    }
   ],
   "source": [
    "list = [1,2,3,4,5,6]\n",
    "\n",
    "last_index = -1\n",
    "for x in list:\n",
    "    last_index += 1\n",
    "    \n",
    "first = list[0]\n",
    "last = list [last_index]\n",
    "\n",
    "middle =[]\n",
    "index = 0\n",
    "while index < last_index-1:\n",
    "    index +=1\n",
    "    middle.append(list[index])\n",
    "\n",
    "text = \"first: {}, middle: {}, last: {}\"\n",
    "text.format(first,middle,last)"
   ]
  },
  {
   "cell_type": "code",
   "execution_count": null,
   "id": "54901b05-d5fb-413e-bebd-3010d79ebc51",
   "metadata": {},
   "outputs": [],
   "source": []
  }
 ],
 "metadata": {
  "kernelspec": {
   "display_name": "Python 3 (ipykernel)",
   "language": "python",
   "name": "python3"
  },
  "language_info": {
   "codemirror_mode": {
    "name": "ipython",
    "version": 3
   },
   "file_extension": ".py",
   "mimetype": "text/x-python",
   "name": "python",
   "nbconvert_exporter": "python",
   "pygments_lexer": "ipython3",
   "version": "3.12.4"
  }
 },
 "nbformat": 4,
 "nbformat_minor": 5
}
